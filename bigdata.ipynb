{
 "cells": [
  {
   "cell_type": "markdown",
   "id": "9fe8bbc4-03e0-4969-8e5c-4c954b27987b",
   "metadata": {},
   "source": [
    "### Loading Data"
   ]
  },
  {
   "cell_type": "code",
   "execution_count": 7,
   "id": "59425d78-0f7b-480c-b5ab-5790fd3889a8",
   "metadata": {},
   "outputs": [
    {
     "name": "stdout",
     "output_type": "stream",
     "text": [
      "\n",
      "Number of rows and columns: (1000000, 15)\n"
     ]
    }
   ],
   "source": [
    "import pandas as pd\n",
    "import numpy as np\n",
    "import matplotlib.pyplot as plt\n",
    "import seaborn as sns\n",
    "import os\n",
    "from pymongo import MongoClient\n",
    "\n",
    "file_path = \"urban_mobility_dataset.csv\"\n",
    "data = pd.read_csv(file_path)\n",
    "print(\"\\nNumber of rows and columns:\", data.shape)"
   ]
  },
  {
   "cell_type": "code",
   "execution_count": 39,
   "id": "ee5316ca-a66b-4add-a512-e9ee5a9cea3e",
   "metadata": {},
   "outputs": [
    {
     "data": {
      "text/plain": [
       "timestamp                      0\n",
       "public_transport_usage         0\n",
       "traffic_flow                   0\n",
       "bike_sharing_usage             0\n",
       "pedestrian_count               0\n",
       "weather_conditions             0\n",
       "day_of_week                    0\n",
       "holiday                        0\n",
       "event                     799487\n",
       "temperature                    0\n",
       "humidity                       0\n",
       "road_incidents                 0\n",
       "public_transport_delay         0\n",
       "bike_availability              0\n",
       "pedestrian_incidents           0\n",
       "dtype: int64"
      ]
     },
     "execution_count": 39,
     "metadata": {},
     "output_type": "execute_result"
    }
   ],
   "source": [
    "data.isnull().sum()"
   ]
  },
  {
   "cell_type": "code",
   "execution_count": 5,
   "id": "8318c2b5-8b80-46f6-b7bd-4b935d9771c1",
   "metadata": {},
   "outputs": [
    {
     "name": "stdout",
     "output_type": "stream",
     "text": [
      "Collecting pymongo\n",
      "  Downloading pymongo-4.10.1-cp312-cp312-win_amd64.whl.metadata (22 kB)\n",
      "Requirement already satisfied: dnspython<3.0.0,>=1.16.0 in c:\\users\\admin\\anaconda3\\lib\\site-packages (from pymongo) (2.7.0)\n",
      "Downloading pymongo-4.10.1-cp312-cp312-win_amd64.whl (926 kB)\n",
      "   ---------------------------------------- 0.0/926.7 kB ? eta -:--:--\n",
      "   ----------------- --------------------- 419.8/926.7 kB 13.2 MB/s eta 0:00:01\n",
      "   --------------------------------------  921.6/926.7 kB 14.5 MB/s eta 0:00:01\n",
      "   ---------------------------------------- 926.7/926.7 kB 9.7 MB/s eta 0:00:00\n",
      "Installing collected packages: pymongo\n",
      "Successfully installed pymongo-4.10.1\n",
      "Note: you may need to restart the kernel to use updated packages.\n"
     ]
    }
   ],
   "source": [
    "pip install pymongo"
   ]
  },
  {
   "cell_type": "code",
   "execution_count": 10,
   "id": "8b1e9256-73db-47be-ac7b-1333daf4af27",
   "metadata": {},
   "outputs": [
    {
     "name": "stdout",
     "output_type": "stream",
     "text": [
      "<class 'pandas.core.frame.DataFrame'>\n",
      "RangeIndex: 1000000 entries, 0 to 999999\n",
      "Data columns (total 15 columns):\n",
      " #   Column                  Non-Null Count    Dtype  \n",
      "---  ------                  --------------    -----  \n",
      " 0   timestamp               1000000 non-null  object \n",
      " 1   public_transport_usage  1000000 non-null  int64  \n",
      " 2   traffic_flow            1000000 non-null  int64  \n",
      " 3   bike_sharing_usage      1000000 non-null  int64  \n",
      " 4   pedestrian_count        1000000 non-null  int64  \n",
      " 5   weather_conditions      1000000 non-null  object \n",
      " 6   day_of_week             1000000 non-null  object \n",
      " 7   holiday                 1000000 non-null  int64  \n",
      " 8   event                   200513 non-null   object \n",
      " 9   temperature             1000000 non-null  float64\n",
      " 10  humidity                1000000 non-null  int64  \n",
      " 11  road_incidents          1000000 non-null  int64  \n",
      " 12  public_transport_delay  1000000 non-null  float64\n",
      " 13  bike_availability       1000000 non-null  int64  \n",
      " 14  pedestrian_incidents    1000000 non-null  int64  \n",
      "dtypes: float64(2), int64(9), object(4)\n",
      "memory usage: 114.4+ MB\n"
     ]
    }
   ],
   "source": [
    "data.info()"
   ]
  },
  {
   "cell_type": "markdown",
   "id": "491f7e2a-6da8-45b7-83d5-fbb5350bb8c2",
   "metadata": {},
   "source": [
    "Inserting into Mongodb"
   ]
  },
  {
   "cell_type": "code",
   "execution_count": 12,
   "id": "5facb9f8-3d9b-42e7-86af-f138a921dc0c",
   "metadata": {},
   "outputs": [
    {
     "name": "stdout",
     "output_type": "stream",
     "text": [
      "Data inserted into MongoDB collection.\n"
     ]
    }
   ],
   "source": [
    "client = MongoClient(\"mongodb://localhost:27017/\")\n",
    "db = client[\"urban_mobility\"]\n",
    "collection = db[\"raw_data\"]\n",
    "\n",
    "# Insert data into MongoDB\n",
    "collection.insert_many(data.to_dict(orient=\"records\"))\n",
    "print(\"Data inserted into MongoDB collection.\")"
   ]
  },
  {
   "cell_type": "markdown",
   "id": "337f79df-aec5-4b1e-a8ba-1c0d7b008620",
   "metadata": {},
   "source": [
    "Data Cleaning"
   ]
  },
  {
   "cell_type": "code",
   "execution_count": 14,
   "id": "7aed6f5a-edd1-43df-ae5f-00d24f3992da",
   "metadata": {},
   "outputs": [
    {
     "data": {
      "text/plain": [
       "timestamp                      0\n",
       "public_transport_usage         0\n",
       "traffic_flow                   0\n",
       "bike_sharing_usage             0\n",
       "pedestrian_count               0\n",
       "weather_conditions             0\n",
       "day_of_week                    0\n",
       "holiday                        0\n",
       "event                     799487\n",
       "temperature                    0\n",
       "humidity                       0\n",
       "road_incidents                 0\n",
       "public_transport_delay         0\n",
       "bike_availability              0\n",
       "pedestrian_incidents           0\n",
       "dtype: int64"
      ]
     },
     "execution_count": 14,
     "metadata": {},
     "output_type": "execute_result"
    }
   ],
   "source": [
    "data.isnull().sum()"
   ]
  },
  {
   "cell_type": "code",
   "execution_count": 16,
   "id": "d0941ff0-3d6d-4ddb-822c-532283acea59",
   "metadata": {},
   "outputs": [
    {
     "name": "stdout",
     "output_type": "stream",
     "text": [
      "Cleaned data inserted into MongoDB collection.\n"
     ]
    }
   ],
   "source": [
    "data.fillna(\"Unknown\", inplace=True)  \n",
    "data.drop_duplicates(inplace=True)\n",
    "cleaned_collection = db[\"cleaned_data\"]\n",
    "cleaned_collection.insert_many(data.to_dict(orient=\"records\"))\n",
    "print(\"Cleaned data inserted into MongoDB collection.\")"
   ]
  },
  {
   "cell_type": "code",
   "execution_count": 51,
   "id": "8591af52-b841-4f78-85ae-bcb99696c5db",
   "metadata": {},
   "outputs": [
    {
     "name": "stdout",
     "output_type": "stream",
     "text": [
      "timestamp                 0\n",
      "public_transport_usage    0\n",
      "traffic_flow              0\n",
      "bike_sharing_usage        0\n",
      "pedestrian_count          0\n",
      "weather_conditions        0\n",
      "day_of_week               0\n",
      "holiday                   0\n",
      "event                     0\n",
      "temperature               0\n",
      "humidity                  0\n",
      "road_incidents            0\n",
      "public_transport_delay    0\n",
      "bike_availability         0\n",
      "pedestrian_incidents      0\n",
      "dtype: int64\n"
     ]
    }
   ],
   "source": [
    "#After Data cleaing \n",
    "print(data.isnull().sum())"
   ]
  },
  {
   "cell_type": "code",
   "execution_count": 18,
   "id": "d0582fd8-e8bd-4478-974e-2911b25c2977",
   "metadata": {},
   "outputs": [
    {
     "name": "stdout",
     "output_type": "stream",
     "text": [
      "\n",
      "Number of rows and columns: (1000000, 15)\n"
     ]
    }
   ],
   "source": [
    "print(\"\\nNumber of rows and columns:\", data.shape)"
   ]
  },
  {
   "cell_type": "markdown",
   "id": "0779f919-9180-4953-96f4-65a585b36a08",
   "metadata": {},
   "source": [
    "### Aggregated Dataset"
   ]
  },
  {
   "cell_type": "code",
   "execution_count": 20,
   "id": "4304775b-2ea4-42d0-b90d-74bea471cd7d",
   "metadata": {},
   "outputs": [
    {
     "name": "stdout",
     "output_type": "stream",
     "text": [
      "Column Names in the Dataset:\n",
      "Index(['timestamp', 'public_transport_usage', 'traffic_flow',\n",
      "       'bike_sharing_usage', 'pedestrian_count', 'weather_conditions',\n",
      "       'day_of_week', 'holiday', 'event', 'temperature', 'humidity',\n",
      "       'road_incidents', 'public_transport_delay', 'bike_availability',\n",
      "       'pedestrian_incidents'],\n",
      "      dtype='object')\n",
      "Updated Column Names:\n",
      "Index(['timestamp', 'public_transport_usage', 'traffic_flow',\n",
      "       'bike_sharing_usage', 'pedestrian_count', 'weather_conditions',\n",
      "       'day_of_week', 'holiday', 'event', 'temperature', 'humidity',\n",
      "       'road_incidents', 'public_transport_delay', 'bike_availability',\n",
      "       'pedestrian_incidents'],\n",
      "      dtype='object')\n",
      "Aggregated Dataset:\n",
      "  day_of_week  public_transport_usage\n",
      "0      Friday                39132264\n",
      "1      Monday                39239693\n",
      "2    Saturday                39215502\n",
      "3      Sunday                39252867\n",
      "4    Thursday                39277671\n",
      "Aggregated data successfully inserted into MongoDB collection.\n"
     ]
    }
   ],
   "source": [
    "print(\"Column Names in the Dataset:\")\n",
    "print(data.columns)\n",
    "data.columns = data.columns.str.strip()  # Remove leading/trailing spaces\n",
    "print(\"Updated Column Names:\")\n",
    "print(data.columns)\n",
    "aggregated_data = data.groupby(\"day_of_week\")[\"public_transport_usage\"].sum().reset_index()\n",
    "print(\"Aggregated Dataset:\")\n",
    "print(aggregated_data.head())\n",
    "aggregated_collection = db[\"aggregated_data\"]\n",
    "aggregated_collection.insert_many(aggregated_data.to_dict(orient=\"records\"))\n",
    "print(\"Aggregated data successfully inserted into MongoDB collection.\")"
   ]
  },
  {
   "cell_type": "code",
   "execution_count": null,
   "id": "882eda6b-104d-4208-bcd9-fbb79dffdfa3",
   "metadata": {},
   "outputs": [],
   "source": []
  }
 ],
 "metadata": {
  "kernelspec": {
   "display_name": "Python 3 (ipykernel)",
   "language": "python",
   "name": "python3"
  },
  "language_info": {
   "codemirror_mode": {
    "name": "ipython",
    "version": 3
   },
   "file_extension": ".py",
   "mimetype": "text/x-python",
   "name": "python",
   "nbconvert_exporter": "python",
   "pygments_lexer": "ipython3",
   "version": "3.12.4"
  }
 },
 "nbformat": 4,
 "nbformat_minor": 5
}
